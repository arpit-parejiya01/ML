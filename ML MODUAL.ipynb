{
  "nbformat": 4,
  "nbformat_minor": 0,
  "metadata": {
    "colab": {
      "provenance": [],
      "authorship_tag": "ABX9TyMyki8f47Wh8lVuy8OolJ8j",
      "include_colab_link": true
    },
    "kernelspec": {
      "name": "python3",
      "display_name": "Python 3"
    },
    "language_info": {
      "name": "python"
    }
  },
  "cells": [
    {
      "cell_type": "markdown",
      "metadata": {
        "id": "view-in-github",
        "colab_type": "text"
      },
      "source": [
        "<a href=\"https://colab.research.google.com/github/arpit-parejiya01/ML/blob/main/ML%20MODUAL.ipynb\" target=\"_parent\"><img src=\"https://colab.research.google.com/assets/colab-badge.svg\" alt=\"Open In Colab\"/></a>"
      ]
    },
    {
      "cell_type": "markdown",
      "source": [
        "**Numpy declaration**"
      ],
      "metadata": {
        "id": "7NEcrVxJndMV"
      }
    },
    {
      "cell_type": "code",
      "execution_count": 2,
      "metadata": {
        "colab": {
          "base_uri": "https://localhost:8080/"
        },
        "id": "kcEFMzm4iJGs",
        "outputId": "b381870c-4879-4ad5-8805-ec7fe3089186"
      },
      "outputs": [
        {
          "output_type": "stream",
          "name": "stdout",
          "text": [
            "[1 2 3 4 5]\n"
          ]
        }
      ],
      "source": [
        "import numpy as np\n",
        "arr = np.array([1,2,3,4,5])\n",
        "print(arr)"
      ]
    },
    {
      "cell_type": "code",
      "source": [
        "print(np.__version__)"
      ],
      "metadata": {
        "colab": {
          "base_uri": "https://localhost:8080/"
        },
        "id": "aGWnt6P6lCWJ",
        "outputId": "dbaef513-03e4-4f55-d03f-276a3b0b2dd8"
      },
      "execution_count": 3,
      "outputs": [
        {
          "output_type": "stream",
          "name": "stdout",
          "text": [
            "1.23.5\n"
          ]
        }
      ]
    },
    {
      "cell_type": "code",
      "source": [
        "print(arr.dtype)\n",
        "print(arr.shape)"
      ],
      "metadata": {
        "colab": {
          "base_uri": "https://localhost:8080/"
        },
        "id": "rHjcufbQlMBK",
        "outputId": "51c27fd3-92d3-480b-a515-a6327934ecbf"
      },
      "execution_count": 5,
      "outputs": [
        {
          "output_type": "stream",
          "name": "stdout",
          "text": [
            "int64\n",
            "(5,)\n"
          ]
        }
      ]
    },
    {
      "cell_type": "code",
      "source": [
        "arr1 = np.array([[1.2,1.2,1.3],[2.1,2.2,2.3]])\n",
        "print(arr1)\n",
        "print(arr1.dtype)\n",
        "print(arr1.shape)"
      ],
      "metadata": {
        "colab": {
          "base_uri": "https://localhost:8080/"
        },
        "id": "FWzCBCOdl7ub",
        "outputId": "5025395e-726f-4537-eb68-c8696c86959e"
      },
      "execution_count": 6,
      "outputs": [
        {
          "output_type": "stream",
          "name": "stdout",
          "text": [
            "[[1.2 1.2 1.3]\n",
            " [2.1 2.2 2.3]]\n",
            "float64\n",
            "(2, 3)\n"
          ]
        }
      ]
    },
    {
      "cell_type": "code",
      "source": [
        "lst = [[1,2,3,4],[5,6,7,8],[1.1,1.2,1.3,1.4],[2.1,2.2,2.3,2.4]]\n",
        "arr2 = np.array(lst)\n",
        "print(arr2)\n",
        "print(arr2.dtype)\n",
        "print(arr2.shape)"
      ],
      "metadata": {
        "colab": {
          "base_uri": "https://localhost:8080/"
        },
        "id": "O3WeyETgmbCV",
        "outputId": "7538501e-43ec-47fc-91de-fb839014f8a0"
      },
      "execution_count": 7,
      "outputs": [
        {
          "output_type": "stream",
          "name": "stdout",
          "text": [
            "[[1.  2.  3.  4. ]\n",
            " [5.  6.  7.  8. ]\n",
            " [1.1 1.2 1.3 1.4]\n",
            " [2.1 2.2 2.3 2.4]]\n",
            "float64\n",
            "(4, 4)\n"
          ]
        }
      ]
    },
    {
      "cell_type": "markdown",
      "source": [
        "**Indexing and slicing**"
      ],
      "metadata": {
        "id": "XTPscuEPn9lS"
      }
    },
    {
      "cell_type": "code",
      "source": [
        "print(arr2[0])\n",
        "print(arr2[0,3])"
      ],
      "metadata": {
        "colab": {
          "base_uri": "https://localhost:8080/"
        },
        "id": "mFPAmz-anIFY",
        "outputId": "dbc3f9fb-b334-4ab1-8864-5a023fbfc0ba"
      },
      "execution_count": 10,
      "outputs": [
        {
          "output_type": "stream",
          "name": "stdout",
          "text": [
            "[1. 2. 3. 4.]\n",
            "4.0\n"
          ]
        }
      ]
    },
    {
      "cell_type": "code",
      "source": [
        "print(arr2[1,:])\n",
        "print(arr2[:,0])\n",
        "print(arr2[2,1:3])"
      ],
      "metadata": {
        "colab": {
          "base_uri": "https://localhost:8080/"
        },
        "id": "tLteip65pUxQ",
        "outputId": "118d7272-d42a-4640-b7d8-c7cf65996f12"
      },
      "execution_count": 13,
      "outputs": [
        {
          "output_type": "stream",
          "name": "stdout",
          "text": [
            "[5. 6. 7. 8.]\n",
            "[1.  5.  1.1 2.1]\n",
            "[1.2 1.3]\n"
          ]
        }
      ]
    },
    {
      "cell_type": "markdown",
      "source": [
        "x = arr2[:,0:2]\n",
        "y = arr2[:,-1]\n",
        "print(x)\n",
        "print(y)"
      ],
      "metadata": {
        "id": "b5Q5U0dyr4PA"
      }
    },
    {
      "cell_type": "code",
      "source": [
        "import numpy as np\n",
        "lst = [[1,2,3],[11,12,13],[21,22,23],[31,32,33]]\n",
        "arr = np.array(lst)\n",
        "print(arr)"
      ],
      "metadata": {
        "colab": {
          "base_uri": "https://localhost:8080/"
        },
        "id": "dKqE5VePskO_",
        "outputId": "0d71ba6a-dc07-4630-ee52-c7ea369a573d"
      },
      "execution_count": 2,
      "outputs": [
        {
          "output_type": "stream",
          "name": "stdout",
          "text": [
            "[[ 1  2  3]\n",
            " [11 12 13]\n",
            " [21 22 23]\n",
            " [31 32 33]]\n"
          ]
        }
      ]
    },
    {
      "cell_type": "code",
      "source": [
        "x = arr[:,0]\n",
        "y = arr[:,-1]\n",
        "print(x)\n",
        "print(y)"
      ],
      "metadata": {
        "colab": {
          "base_uri": "https://localhost:8080/"
        },
        "id": "yUGd_TYStNX_",
        "outputId": "c5b4952a-ce19-4380-fe51-e40ff19fdd10"
      },
      "execution_count": 6,
      "outputs": [
        {
          "output_type": "stream",
          "name": "stdout",
          "text": [
            "[ 1 11 21 31]\n",
            "[ 3 13 23 33]\n"
          ]
        }
      ]
    },
    {
      "cell_type": "code",
      "source": [
        "print(arr[arr % 7 == 0])\n",
        "print(arr[arr > 10])"
      ],
      "metadata": {
        "colab": {
          "base_uri": "https://localhost:8080/"
        },
        "id": "1QTH1Q6at5NH",
        "outputId": "3854bc00-b641-4ce4-e082-57ef9ab49b02"
      },
      "execution_count": 10,
      "outputs": [
        {
          "output_type": "stream",
          "name": "stdout",
          "text": [
            "[21]\n",
            "[11 12 13 21 22 23 31 32 33]\n"
          ]
        }
      ]
    },
    {
      "cell_type": "code",
      "source": [
        "for x in arr :\n",
        "  print(x)"
      ],
      "metadata": {
        "colab": {
          "base_uri": "https://localhost:8080/"
        },
        "id": "elDCzA9puiB5",
        "outputId": "7192955e-279e-4a55-cfaf-75c1cf284f81"
      },
      "execution_count": 11,
      "outputs": [
        {
          "output_type": "stream",
          "name": "stdout",
          "text": [
            "[1 2 3]\n",
            "[11 12 13]\n",
            "[21 22 23]\n",
            "[31 32 33]\n"
          ]
        }
      ]
    },
    {
      "cell_type": "code",
      "source": [
        "for x in arr :\n",
        "  for y in x:\n",
        "    print(y)"
      ],
      "metadata": {
        "colab": {
          "base_uri": "https://localhost:8080/"
        },
        "id": "aE60O28OwBoj",
        "outputId": "e10fd03e-03e3-4c5a-b478-8dfe46be58ee"
      },
      "execution_count": 12,
      "outputs": [
        {
          "output_type": "stream",
          "name": "stdout",
          "text": [
            "1\n",
            "2\n",
            "3\n",
            "11\n",
            "12\n",
            "13\n",
            "21\n",
            "22\n",
            "23\n",
            "31\n",
            "32\n",
            "33\n"
          ]
        }
      ]
    },
    {
      "cell_type": "code",
      "source": [
        "ans = np.sum(arr)\n",
        "print(\"sum is :- \",ans)\n",
        "ans = np.min(arr)\n",
        "print(\"min is :- \",ans)\n",
        "ans = np.max(arr)\n",
        "print(\"max is :- \",ans)\n",
        "ans = np.mean(arr)\n",
        "print(\"mean is :- \",ans)\n",
        "ans = np.median(arr)\n",
        "print(\"median is :- \",ans)\n",
        "ans = np.std(arr)\n",
        "print(\"stand deviation :- \",ans)\n"
      ],
      "metadata": {
        "colab": {
          "base_uri": "https://localhost:8080/"
        },
        "id": "tX8rPivpwKCE",
        "outputId": "3c6ae90b-645a-41f1-f3be-adebc37d2690"
      },
      "execution_count": 18,
      "outputs": [
        {
          "output_type": "stream",
          "name": "stdout",
          "text": [
            "sum is :-  204\n",
            "min is :-  1\n",
            "max is :-  33\n",
            "mean is :-  17.0\n",
            "median is :-  17.0\n",
            "stand deviation :-  11.210114480533491\n"
          ]
        }
      ]
    },
    {
      "cell_type": "code",
      "source": [
        "import numpy as np\n",
        "lst = [[1,2,3],[11,12,13],[21,22,23],[31,32,33]]\n",
        "arr = np.array(lst)\n",
        "print(arr)\n",
        "ans = np.sum(arr,axis=0)\n",
        "print(\"sum of column :- \",ans)\n",
        "ans = np.sum(arr,axis=1)\n",
        "print(\"sum of rows :- \",ans)\n",
        "ans = np.mean(arr,axis=0)\n",
        "print(\"mean of column :- \",ans)\n",
        "ans = np.mean(arr,axis=1)\n",
        "print(\"mean of rows :- \",ans)"
      ],
      "metadata": {
        "colab": {
          "base_uri": "https://localhost:8080/"
        },
        "id": "RkSaSo_M2Roj",
        "outputId": "e1519ed8-9bfd-4949-aba9-57020225db5d"
      },
      "execution_count": 5,
      "outputs": [
        {
          "output_type": "stream",
          "name": "stdout",
          "text": [
            "[[ 1  2  3]\n",
            " [11 12 13]\n",
            " [21 22 23]\n",
            " [31 32 33]]\n",
            "sum of column :-  [64 68 72]\n",
            "sum of rows :-  [ 6 36 66 96]\n",
            "mean of column :-  [16. 17. 18.]\n",
            "mean of rows :-  [ 2. 12. 22. 32.]\n"
          ]
        }
      ]
    }
  ]
}