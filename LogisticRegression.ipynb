{
  "nbformat": 4,
  "nbformat_minor": 0,
  "metadata": {
    "colab": {
      "provenance": [],
      "authorship_tag": "ABX9TyPJ3RdfWk9bmX7SfY4qpARl",
      "include_colab_link": true
    },
    "kernelspec": {
      "name": "python3",
      "display_name": "Python 3"
    },
    "language_info": {
      "name": "python"
    }
  },
  "cells": [
    {
      "cell_type": "markdown",
      "metadata": {
        "id": "view-in-github",
        "colab_type": "text"
      },
      "source": [
        "<a href=\"https://colab.research.google.com/github/arpit-parejiya01/ML/blob/main/LogisticRegression.ipynb\" target=\"_parent\"><img src=\"https://colab.research.google.com/assets/colab-badge.svg\" alt=\"Open In Colab\"/></a>"
      ]
    },
    {
      "cell_type": "code",
      "execution_count": 11,
      "metadata": {
        "colab": {
          "base_uri": "https://localhost:8080/"
        },
        "id": "CMFAAltXR_Kj",
        "outputId": "4e17a3f1-a640-48cb-a783-0d6f7efa1586"
      },
      "outputs": [
        {
          "output_type": "stream",
          "name": "stdout",
          "text": [
            "Enter the age:- 31\n",
            "Enter the time in website:- 60\n",
            "Enter 1 if the add to card else 0:- 1\n",
            "purchase\n"
          ]
        }
      ],
      "source": [
        "import numpy as np\n",
        "import pandas as pd\n",
        "from sklearn.model_selection import train_test_split\n",
        "from sklearn.linear_model import LogisticRegression\n",
        "x = np.array([[25,30,0],[30,40,1],[20,35,0],[35,45,1]])\n",
        "y = np.array([0,1,0,1])\n",
        "x_train,x_test,y_train,y_test = train_test_split(x,y,test_size=0.2,random_state=42)\n",
        "model = LogisticRegression()\n",
        "model.fit(x_train,y_train)\n",
        "accuracy = model.score(x_test,y_test)\n",
        "user_age = float(input(\"Enter the age:- \"))\n",
        "user_time_spend = float(input(\"Enter the time in website:- \"))\n",
        "user_add_cart = int(input(\"Enter 1 if the add to card else 0:- \"))\n",
        "user_data = np.array([[user_age,user_time_spend,user_add_cart]])\n",
        "prediction = model.predict(user_data)\n",
        "if prediction[0] == 1:\n",
        "  print(\"purchase\")\n",
        "else:\n",
        "  print(\"not purchase\")\n"
      ]
    }
  ]
}